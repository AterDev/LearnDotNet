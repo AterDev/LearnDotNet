{
 "cells": [
  {
   "cell_type": "markdown",
   "metadata": {},
   "source": [
    "# 高级语言通用概念"
   ]
  },
  {
   "cell_type": "code",
   "execution_count": 10,
   "metadata": {
    "dotnet_interactive": {
     "language": "csharp"
    },
    "polyglot_notebook": {
     "kernelName": "csharp"
    }
   },
   "outputs": [
    {
     "name": "stdout",
     "output_type": "stream",
     "text": [
      "1\n",
      "1\n",
      "2\n",
      "2\n",
      "4\n",
      "4\n",
      "8\n",
      "16\n"
     ]
    }
   ],
   "source": [
    "unsafe\n",
    "{\n",
    "    Console.WriteLine(sizeof(bool)); \n",
    "    Console.WriteLine(sizeof(byte)); \n",
    "    Console.WriteLine(sizeof(char)); \n",
    "    Console.WriteLine(sizeof(short)); \n",
    "    Console.WriteLine(sizeof(int)); \n",
    "    Console.WriteLine(sizeof(float)); \n",
    "    Console.WriteLine(sizeof(double));\n",
    "    Console.WriteLine(sizeof(decimal));\n",
    "    \n",
    "}\n"
   ]
  },
  {
   "cell_type": "code",
   "execution_count": 11,
   "metadata": {},
   "outputs": [
    {
     "name": "stdout",
     "output_type": "stream",
     "text": [
      "4\n",
      "8\n",
      "16\n",
      "8\n",
      "16\n"
     ]
    }
   ],
   "source": [
    "\n",
    "unsafe\n",
    "{\n",
    "    Console.WriteLine(sizeof(DateOnly));\n",
    "    Console.WriteLine(sizeof(DateTime));\n",
    "    Console.WriteLine(sizeof(DateTimeOffset));\n",
    "    Console.WriteLine(sizeof(TimeSpan));\n",
    "    Console.WriteLine(sizeof(Guid));\n",
    "}\n"
   ]
  }
 ],
 "metadata": {
  "kernelspec": {
   "display_name": ".NET (C#)",
   "language": "C#",
   "name": ".net-csharp"
  },
  "polyglot_notebook": {
   "kernelInfo": {
    "defaultKernelName": "csharp",
    "items": [
     {
      "aliases": [],
      "languageName": "csharp",
      "name": "csharp"
     }
    ]
   }
  }
 },
 "nbformat": 4,
 "nbformat_minor": 2
}
